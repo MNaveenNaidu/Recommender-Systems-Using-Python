{
 "cells": [
  {
   "cell_type": "markdown",
   "metadata": {},
   "source": [
    "# Singular Value Decomposition(SVD) Matrix Factorization "
   ]
  },
  {
   "cell_type": "markdown",
   "metadata": {},
   "source": [
    "# Importing Dependencies"
   ]
  },
  {
   "cell_type": "code",
   "execution_count": 1,
   "metadata": {},
   "outputs": [],
   "source": [
    "from MovieLens import MovieLens\n",
    "from surprise import SVD, SVDpp\n",
    "from surprise import NormalPredictor\n",
    "from Evaluator import Evaluator\n",
    "\n",
    "import random\n",
    "import numpy as np"
   ]
  },
  {
   "cell_type": "markdown",
   "metadata": {},
   "source": [
    "## Loading Data"
   ]
  },
  {
   "cell_type": "code",
   "execution_count": 2,
   "metadata": {},
   "outputs": [],
   "source": [
    "def LoadMovieLensData():\n",
    "    ml = MovieLens()\n",
    "    print(\"Loading movie ratings...\")\n",
    "    data = ml.loadMovieLensLatestSmall()\n",
    "    print(\"\\nComputing movie popularity ranks so we can measure novelty later...\")\n",
    "    rankings = ml.getPopularityRanks()\n",
    "    return (ml, data, rankings)"
   ]
  },
  {
   "cell_type": "code",
   "execution_count": 3,
   "metadata": {},
   "outputs": [],
   "source": [
    "np.random.seed(0)\n",
    "random.seed(0)"
   ]
  },
  {
   "cell_type": "code",
   "execution_count": 4,
   "metadata": {},
   "outputs": [
    {
     "name": "stdout",
     "output_type": "stream",
     "text": [
      "Loading movie ratings...\n",
      "\n",
      "Computing movie popularity ranks so we can measure novelty later...\n"
     ]
    }
   ],
   "source": [
    "# Load up common data set for the recommender algorithms\n",
    "(ml, evaluationData, rankings) = LoadMovieLensData()"
   ]
  },
  {
   "cell_type": "markdown",
   "metadata": {},
   "source": [
    "## Initialising Evaluator"
   ]
  },
  {
   "cell_type": "code",
   "execution_count": 5,
   "metadata": {},
   "outputs": [
    {
     "name": "stdout",
     "output_type": "stream",
     "text": [
      "Estimating biases using als...\n",
      "Computing the cosine similarity matrix...\n",
      "Done computing similarity matrix.\n"
     ]
    }
   ],
   "source": [
    "# Construct an Evaluator to, you know, evaluate them\n",
    "evaluator = Evaluator(evaluationData, rankings)"
   ]
  },
  {
   "cell_type": "markdown",
   "metadata": {},
   "source": [
    "## Implementing SVD using SupriseLib"
   ]
  },
  {
   "cell_type": "code",
   "execution_count": 6,
   "metadata": {},
   "outputs": [],
   "source": [
    "# SVD\n",
    "SVD = SVD()\n",
    "evaluator.AddAlgorithm(SVD, \"SVD\")"
   ]
  },
  {
   "cell_type": "code",
   "execution_count": 7,
   "metadata": {},
   "outputs": [],
   "source": [
    "# SVD++\n",
    "SVDPlusPlus = SVDpp()\n",
    "evaluator.AddAlgorithm(SVDPlusPlus, \"SVD++\")"
   ]
  },
  {
   "cell_type": "code",
   "execution_count": 8,
   "metadata": {},
   "outputs": [],
   "source": [
    "# Just make random recommendations\n",
    "Random = NormalPredictor()\n",
    "evaluator.AddAlgorithm(Random, \"Random\")"
   ]
  },
  {
   "cell_type": "markdown",
   "metadata": {},
   "source": [
    "## Evaluate"
   ]
  },
  {
   "cell_type": "code",
   "execution_count": 9,
   "metadata": {},
   "outputs": [
    {
     "name": "stdout",
     "output_type": "stream",
     "text": [
      "Evaluating  SVD ...\n",
      "Evaluating accuracy...\n",
      "Analysis complete.\n",
      "Evaluating  SVD++ ...\n",
      "Evaluating accuracy...\n",
      "Analysis complete.\n",
      "Evaluating  Random ...\n",
      "Evaluating accuracy...\n",
      "Analysis complete.\n",
      "\n",
      "\n",
      "Algorithm  RMSE       MAE       \n",
      "SVD        0.9039     0.6984    \n",
      "SVD++      0.8943     0.6887    \n",
      "Random     1.4359     1.1493    \n",
      "\n",
      "Legend:\n",
      "\n",
      "RMSE:      Root Mean Squared Error. Lower values mean better accuracy.\n",
      "MAE:       Mean Absolute Error. Lower values mean better accuracy.\n"
     ]
    }
   ],
   "source": [
    "evaluator.Evaluate(False)"
   ]
  },
  {
   "cell_type": "code",
   "execution_count": 10,
   "metadata": {},
   "outputs": [
    {
     "name": "stdout",
     "output_type": "stream",
     "text": [
      "\n",
      "Using recommender  SVD\n",
      "\n",
      "Building recommendation model...\n",
      "Computing recommendations...\n",
      "\n",
      "We recommend:\n",
      "Gladiator (1992) 4.520884890007874\n",
      "Philadelphia Story, The (1940) 4.420701711947352\n",
      "Stand by Me (1986) 4.3959589752178365\n",
      "Moon (2009) 4.372613693384055\n",
      "Happiness (1998) 4.369493252705134\n",
      "American Graffiti (1973) 4.353470600109924\n",
      "And Your Mother Too (Y tu mamÃ¡ tambiÃ©n) (2001) 4.349192492630499\n",
      "Wallace & Gromit: A Close Shave (1995) 4.3154412154304085\n",
      "Band of Brothers (2001) 4.315414828016616\n",
      "Seven Samurai (Shichinin no samurai) (1954) 4.311102920673881\n",
      "\n",
      "Using recommender  SVD++\n",
      "\n",
      "Building recommendation model...\n",
      "Computing recommendations...\n",
      "\n",
      "We recommend:\n",
      "Lock, Stock & Two Smoking Barrels (1998) 4.60422766627621\n",
      "The Imitation Game (2014) 4.457817607681914\n",
      "Amadeus (1984) 4.322529285260794\n",
      "Indiana Jones and the Last Crusade (1989) 4.289355864317423\n",
      "Happiness (1998) 4.260333724293291\n",
      "Harry Potter and the Sorcerer's Stone (a.k.a. Harry Potter and the Philosopher's Stone) (2001) 4.229511982111833\n",
      "Wings of Desire (Himmel Ã¼ber Berlin, Der) (1987) 4.2247114809512345\n",
      "Grand Day Out with Wallace and Gromit, A (1989) 4.223352198994354\n",
      "Charade (1963) 4.2089531102636775\n",
      "Snatch (2000) 4.204477673848874\n",
      "\n",
      "Using recommender  Random\n",
      "\n",
      "Building recommendation model...\n",
      "Computing recommendations...\n",
      "\n",
      "We recommend:\n",
      "Usual Suspects, The (1995) 5\n",
      "Legends of the Fall (1994) 5\n",
      "Trainspotting (1996) 5\n",
      "Titanic (1997) 5\n",
      "Happiness (1998) 5\n",
      "Big Daddy (1999) 5\n",
      "Spider-Man 2 (2004) 5\n",
      "Blade Runner (1982) 5\n",
      "Stand by Me (1986) 5\n",
      "Indiana Jones and the Last Crusade (1989) 5\n"
     ]
    }
   ],
   "source": [
    "evaluator.SampleTopNRecs(ml)"
   ]
  },
  {
   "cell_type": "markdown",
   "metadata": {},
   "source": [
    "## Tuning SVD"
   ]
  },
  {
   "cell_type": "code",
   "execution_count": 11,
   "metadata": {},
   "outputs": [],
   "source": [
    "del SVD"
   ]
  },
  {
   "cell_type": "code",
   "execution_count": 12,
   "metadata": {},
   "outputs": [],
   "source": [
    "from surprise import SVD"
   ]
  },
  {
   "cell_type": "markdown",
   "metadata": {},
   "source": [
    "## GridSearchCV"
   ]
  },
  {
   "cell_type": "code",
   "execution_count": 13,
   "metadata": {},
   "outputs": [],
   "source": [
    "from surprise.model_selection import GridSearchCV"
   ]
  },
  {
   "cell_type": "code",
   "execution_count": 14,
   "metadata": {},
   "outputs": [
    {
     "name": "stdout",
     "output_type": "stream",
     "text": [
      "Searching for best parameters...\n"
     ]
    }
   ],
   "source": [
    "print(\"Searching for best parameters...\")\n",
    "param_grid = {'n_epochs': [20, 30], 'lr_all': [0.005, 0.010],\n",
    "              'n_factors': [50, 100]}\n",
    "gs = GridSearchCV(SVD, param_grid, measures=['rmse', 'mae'], cv=3)\n",
    "\n",
    "gs.fit(evaluationData)"
   ]
  },
  {
   "cell_type": "code",
   "execution_count": 15,
   "metadata": {},
   "outputs": [
    {
     "name": "stdout",
     "output_type": "stream",
     "text": [
      "Best RMSE score attained:  0.8998197388777108\n"
     ]
    }
   ],
   "source": [
    "# best RMSE score\n",
    "print(\"Best RMSE score attained: \", gs.best_score['rmse'])"
   ]
  },
  {
   "cell_type": "code",
   "execution_count": 16,
   "metadata": {},
   "outputs": [
    {
     "name": "stdout",
     "output_type": "stream",
     "text": [
      "{'n_epochs': 20, 'lr_all': 0.005, 'n_factors': 50}\n"
     ]
    }
   ],
   "source": [
    "# combination of parameters that gave the best RMSE score\n",
    "print(gs.best_params['rmse'])"
   ]
  },
  {
   "cell_type": "markdown",
   "metadata": {},
   "source": [
    "## Intialising the evaluator"
   ]
  },
  {
   "cell_type": "code",
   "execution_count": 17,
   "metadata": {},
   "outputs": [
    {
     "name": "stdout",
     "output_type": "stream",
     "text": [
      "Estimating biases using als...\n",
      "Computing the cosine similarity matrix...\n",
      "Done computing similarity matrix.\n"
     ]
    }
   ],
   "source": [
    "# Construct an Evaluator to, you know, evaluate them\n",
    "from Evaluator import Evaluator\n",
    "evaluator = Evaluator(evaluationData, rankings)"
   ]
  },
  {
   "cell_type": "code",
   "execution_count": 18,
   "metadata": {},
   "outputs": [],
   "source": [
    "params = gs.best_params['rmse']\n",
    "SVDtuned = SVD(n_epochs = params['n_epochs'], lr_all = params['lr_all'], n_factors = params['n_factors'])\n",
    "evaluator.AddAlgorithm(SVDtuned, \"SVD - Tuned\")"
   ]
  },
  {
   "cell_type": "code",
   "execution_count": 19,
   "metadata": {},
   "outputs": [],
   "source": [
    "SVDUntuned = SVD()\n",
    "evaluator.AddAlgorithm(SVDUntuned, \"SVD - Untuned\")"
   ]
  },
  {
   "cell_type": "code",
   "execution_count": 20,
   "metadata": {},
   "outputs": [],
   "source": [
    "# Just make random recommendations\n",
    "Random = NormalPredictor()\n",
    "evaluator.AddAlgorithm(Random, \"Random\")"
   ]
  },
  {
   "cell_type": "code",
   "execution_count": 21,
   "metadata": {},
   "outputs": [
    {
     "name": "stdout",
     "output_type": "stream",
     "text": [
      "Evaluating  SVD ...\n",
      "Evaluating accuracy...\n",
      "Analysis complete.\n",
      "Evaluating  SVD++ ...\n",
      "Evaluating accuracy...\n",
      "Analysis complete.\n",
      "Evaluating  Random ...\n",
      "Evaluating accuracy...\n",
      "Analysis complete.\n",
      "Evaluating  SVD - Tuned ...\n",
      "Evaluating accuracy...\n",
      "Analysis complete.\n",
      "Evaluating  SVD - Untuned ...\n",
      "Evaluating accuracy...\n",
      "Analysis complete.\n",
      "Evaluating  Random ...\n",
      "Evaluating accuracy...\n",
      "Analysis complete.\n",
      "\n",
      "\n",
      "Algorithm  RMSE       MAE       \n",
      "SVD        0.9048     0.7010    \n",
      "SVD++      0.8970     0.6900    \n",
      "Random     1.4427     1.1512    \n",
      "SVD - Tuned 0.9019     0.6979    \n",
      "SVD - Untuned 0.9030     0.6993    \n",
      "\n",
      "Legend:\n",
      "\n",
      "RMSE:      Root Mean Squared Error. Lower values mean better accuracy.\n",
      "MAE:       Mean Absolute Error. Lower values mean better accuracy.\n"
     ]
    }
   ],
   "source": [
    "evaluator.Evaluate(False)"
   ]
  },
  {
   "cell_type": "code",
   "execution_count": 22,
   "metadata": {},
   "outputs": [
    {
     "name": "stdout",
     "output_type": "stream",
     "text": [
      "\n",
      "Using recommender  SVD\n",
      "\n",
      "Building recommendation model...\n",
      "Computing recommendations...\n",
      "\n",
      "We recommend:\n",
      "African Queen, The (1951) 4.770854516835359\n",
      "Lord of the Rings: The Return of the King, The (2003) 4.638142543075613\n",
      "Godfather, The (1972) 4.504155895826655\n",
      "Lord of the Rings: The Fellowship of the Ring, The (2001) 4.502097739458008\n",
      "Seven Samurai (Shichinin no samurai) (1954) 4.485480278997229\n",
      "Butch Cassidy and the Sundance Kid (1969) 4.433675291981523\n",
      "Lord of the Rings: The Two Towers, The (2002) 4.4166478939536455\n",
      "Lock, Stock & Two Smoking Barrels (1998) 4.409013100897731\n",
      "It Happened One Night (1934) 4.379342254424493\n",
      "Godfather: Part II, The (1974) 4.363521816740054\n",
      "\n",
      "Using recommender  SVD++\n",
      "\n",
      "Building recommendation model...\n",
      "Computing recommendations...\n",
      "\n",
      "We recommend:\n",
      "Lord of the Rings: The Fellowship of the Ring, The (2001) 4.703082557525876\n",
      "Lord of the Rings: The Two Towers, The (2002) 4.557029405027646\n",
      "Matrix, The (1999) 4.448549575900148\n",
      "Saving Private Ryan (1998) 4.420799225190894\n",
      "Happiness (1998) 4.419495192570996\n",
      "Lord of the Rings: The Return of the King, The (2003) 4.390848177425118\n",
      "Indiana Jones and the Last Crusade (1989) 4.381648051787772\n",
      "Roger & Me (1989) 4.3681423744858785\n",
      "Game, The (1997) 4.361404694469558\n",
      "Back to the Future (1985) 4.35653122249015\n",
      "\n",
      "Using recommender  Random\n",
      "\n",
      "Building recommendation model...\n",
      "Computing recommendations...\n",
      "\n",
      "We recommend:\n",
      "Escape from New York (1981) 5\n",
      "Ben-Hur (1959) 5\n",
      "Willow (1988) 5\n",
      "Mr. Holland's Opus (1995) 5\n",
      "Like Water for Chocolate (Como agua para chocolate) (1992) 5\n",
      "In the Line of Fire (1993) 5\n",
      "Piano, The (1993) 5\n",
      "Sirens (1994) 5\n",
      "James and the Giant Peach (1996) 5\n",
      "Star Wars: Episode VI - Return of the Jedi (1983) 5\n",
      "\n",
      "Using recommender  SVD - Tuned\n",
      "\n",
      "Building recommendation model...\n",
      "Computing recommendations...\n",
      "\n",
      "We recommend:\n",
      "Hamlet (1996) 4.579024741891764\n",
      "Goodfellas (1990) 4.5783057586759615\n",
      "Godfather, The (1972) 4.573359301301673\n",
      "Usual Suspects, The (1995) 4.540223417810292\n",
      "Taxi Driver (1976) 4.539759223268542\n",
      "African Queen, The (1951) 4.536878050414114\n",
      "Amelie (Fabuleux destin d'AmÃ©lie Poulain, Le) (2001) 4.535401806390651\n",
      "Godfather: Part II, The (1974) 4.505877967475581\n",
      "Seven Samurai (Shichinin no samurai) (1954) 4.46246788671877\n",
      "Citizen Kane (1941) 4.428146279755473\n",
      "\n",
      "Using recommender  SVD - Untuned\n",
      "\n",
      "Building recommendation model...\n",
      "Computing recommendations...\n",
      "\n",
      "We recommend:\n",
      "Lord of the Rings: The Return of the King, The (2003) 4.672959059059057\n",
      "Swingers (1996) 4.498116456595321\n",
      "Big Night (1996) 4.484787558901567\n",
      "Star Wars: Episode V - The Empire Strikes Back (1980) 4.468325228985102\n",
      "Godfather, The (1972) 4.436665093805346\n",
      "One Flew Over the Cuckoo's Nest (1975) 4.373657993254771\n",
      "Boot, Das (Boat, The) (1981) 4.362678841029733\n",
      "American History X (1998) 4.356131310930118\n",
      "Lord of the Rings: The Fellowship of the Ring, The (2001) 4.351497664048999\n",
      "Wallace & Gromit: A Close Shave (1995) 4.341312758453945\n",
      "\n",
      "Using recommender  Random\n",
      "\n",
      "Building recommendation model...\n",
      "Computing recommendations...\n",
      "\n",
      "We recommend:\n",
      "Gods Must Be Crazy, The (1980) 5\n",
      "Antz (1998) 5\n",
      "Time Bandits (1981) 5\n",
      "Wolf (1994) 5\n",
      "Bound (1996) 5\n",
      "Fear and Loathing in Las Vegas (1998) 5\n",
      "Spider-Man 2 (2004) 5\n",
      "Godfather, The (1972) 5\n",
      "Herbie Rides Again (1974) 5\n",
      "Fox and the Hound, The (1981) 5\n"
     ]
    }
   ],
   "source": [
    "evaluator.SampleTopNRecs(ml)"
   ]
  }
 ],
 "metadata": {
  "kernelspec": {
   "display_name": "Python 3",
   "language": "python",
   "name": "python3"
  },
  "language_info": {
   "codemirror_mode": {
    "name": "ipython",
    "version": 3
   },
   "file_extension": ".py",
   "mimetype": "text/x-python",
   "name": "python",
   "nbconvert_exporter": "python",
   "pygments_lexer": "ipython3",
   "version": "3.8.2"
  }
 },
 "nbformat": 4,
 "nbformat_minor": 4
}
