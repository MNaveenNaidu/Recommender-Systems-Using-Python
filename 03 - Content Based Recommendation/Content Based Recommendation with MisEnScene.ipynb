{
 "cells": [
  {
   "cell_type": "markdown",
   "metadata": {},
   "source": [
    "# Content Based Movie Recommendation with Mis En Scene Data"
   ]
  },
  {
   "cell_type": "markdown",
   "metadata": {},
   "source": [
    "## Importing Dependencies"
   ]
  },
  {
   "cell_type": "code",
   "execution_count": 1,
   "metadata": {},
   "outputs": [],
   "source": [
    "from MovieLens import MovieLens\n",
    "from ContentKNNwithMisEnScene import ContentKNNwithMisEnScene\n",
    "from Evaluator import Evaluator\n",
    "from surprise import NormalPredictor\n",
    "\n",
    "import random\n",
    "import numpy as np"
   ]
  },
  {
   "cell_type": "markdown",
   "metadata": {},
   "source": [
    "## Loading Data"
   ]
  },
  {
   "cell_type": "code",
   "execution_count": 2,
   "metadata": {},
   "outputs": [],
   "source": [
    "def LoadMovieLensData():\n",
    "    ml = MovieLens()\n",
    "    print(\"Loading movie ratings...\")\n",
    "    data = ml.loadMovieLensLatestSmall()\n",
    "    print(\"\\nComputing movie popularity ranks so we can measure novelty later...\")\n",
    "    rankings = ml.getPopularityRanks()\n",
    "    return (ml, data, rankings)"
   ]
  },
  {
   "cell_type": "code",
   "execution_count": 3,
   "metadata": {},
   "outputs": [],
   "source": [
    "np.random.seed(0)\n",
    "random.seed(0)"
   ]
  },
  {
   "cell_type": "code",
   "execution_count": 4,
   "metadata": {},
   "outputs": [
    {
     "name": "stdout",
     "output_type": "stream",
     "text": [
      "Loading movie ratings...\n",
      "\n",
      "Computing movie popularity ranks so we can measure novelty later...\n"
     ]
    }
   ],
   "source": [
    "# Load up common data set for the recommender algorithms\n",
    "(ml, evaluationData, rankings) = LoadMovieLensData()"
   ]
  },
  {
   "cell_type": "markdown",
   "metadata": {},
   "source": [
    "## Instantiating Evaluator"
   ]
  },
  {
   "cell_type": "code",
   "execution_count": 5,
   "metadata": {},
   "outputs": [
    {
     "name": "stdout",
     "output_type": "stream",
     "text": [
      "Estimating biases using als...\n",
      "Computing the cosine similarity matrix...\n",
      "Done computing similarity matrix.\n"
     ]
    }
   ],
   "source": [
    "# Construct an Evaluator to, you know, evaluate them\n",
    "evaluator = Evaluator(evaluationData, rankings)"
   ]
  },
  {
   "cell_type": "markdown",
   "metadata": {},
   "source": [
    "## Bulding Recommender Algorithms"
   ]
  },
  {
   "cell_type": "markdown",
   "metadata": {},
   "source": [
    "### Adding a Content KNN Algorithm"
   ]
  },
  {
   "cell_type": "code",
   "execution_count": 6,
   "metadata": {},
   "outputs": [],
   "source": [
    "contentKNN = ContentKNNwithMisEnScene()\n",
    "evaluator.AddAlgorithm(contentKNN, \"ContentKNN\")"
   ]
  },
  {
   "cell_type": "markdown",
   "metadata": {},
   "source": [
    "### Adding a Random Recommendation Algorithm"
   ]
  },
  {
   "cell_type": "code",
   "execution_count": 7,
   "metadata": {},
   "outputs": [],
   "source": [
    "# Just make random recommendations\n",
    "Random = NormalPredictor()\n",
    "evaluator.AddAlgorithm(Random, \"Random\")"
   ]
  },
  {
   "cell_type": "markdown",
   "metadata": {},
   "source": [
    "## Evaluate"
   ]
  },
  {
   "cell_type": "code",
   "execution_count": 8,
   "metadata": {},
   "outputs": [
    {
     "name": "stdout",
     "output_type": "stream",
     "text": [
      "Evaluating  ContentKNN ...\n",
      "Evaluating accuracy...\n",
      "Computing content-based similarity matrix...\n",
      "0  of  8211\n",
      "1000  of  8211\n",
      "2000  of  8211\n",
      "3000  of  8211\n",
      "4000  of  8211\n",
      "5000  of  8211\n",
      "6000  of  8211\n",
      "7000  of  8211\n",
      "8000  of  8211\n",
      "...done.\n",
      "Analysis complete.\n",
      "Evaluating  Random ...\n",
      "Evaluating accuracy...\n",
      "Analysis complete.\n",
      "\n",
      "\n",
      "Algorithm  RMSE       MAE       \n",
      "ContentKNN 1.0460     0.8198    \n",
      "Random     1.4385     1.1478    \n",
      "\n",
      "Legend:\n",
      "\n",
      "RMSE:      Root Mean Squared Error. Lower values mean better accuracy.\n",
      "MAE:       Mean Absolute Error. Lower values mean better accuracy.\n"
     ]
    }
   ],
   "source": [
    "evaluator.Evaluate(False)"
   ]
  },
  {
   "cell_type": "code",
   "execution_count": 9,
   "metadata": {},
   "outputs": [
    {
     "name": "stdout",
     "output_type": "stream",
     "text": [
      "\n",
      "Using recommender  ContentKNN\n",
      "\n",
      "Building recommendation model...\n",
      "Computing content-based similarity matrix...\n",
      "0  of  9066\n",
      "1000  of  9066\n",
      "2000  of  9066\n",
      "3000  of  9066\n",
      "4000  of  9066\n",
      "5000  of  9066\n",
      "6000  of  9066\n",
      "7000  of  9066\n",
      "8000  of  9066\n",
      "9000  of  9066\n",
      "...done.\n",
      "Computing recommendations...\n",
      "\n",
      "We recommend:\n",
      "Autumn Tale, An (Conte d'automne) (1998) 4.778855672512645\n",
      "Splice (2009) 4.628926485356064\n",
      "Mission to Mars (2000) 4.620457166693371\n",
      "Felony (2013) 4.619025628660293\n",
      "Saw II (2005) 4.594928549301262\n",
      "True Crime (1996) 4.588315991604612\n",
      "Contagion (2011) 4.523914204324833\n",
      "Cube 2: Hypercube (2002) 4.509729284313489\n",
      "No One Lives (2012) 4.501102906404861\n",
      "Ransom (1996) 4.435239401235966\n",
      "\n",
      "Using recommender  Random\n",
      "\n",
      "Building recommendation model...\n",
      "Computing recommendations...\n",
      "\n",
      "We recommend:\n",
      "Sleepers (1996) 5\n",
      "Beavis and Butt-Head Do America (1996) 5\n",
      "Fear and Loathing in Las Vegas (1998) 5\n",
      "Happiness (1998) 5\n",
      "Summer of Sam (1999) 5\n",
      "Bowling for Columbine (2002) 5\n",
      "Babe (1995) 5\n",
      "Birdcage, The (1996) 5\n",
      "Carlito's Way (1993) 5\n",
      "Wizard of Oz, The (1939) 5\n"
     ]
    }
   ],
   "source": [
    "evaluator.SampleTopNRecs(ml)"
   ]
  }
 ],
 "metadata": {
  "kernelspec": {
   "display_name": "Python 3",
   "language": "python",
   "name": "python3"
  },
  "language_info": {
   "codemirror_mode": {
    "name": "ipython",
    "version": 3
   },
   "file_extension": ".py",
   "mimetype": "text/x-python",
   "name": "python",
   "nbconvert_exporter": "python",
   "pygments_lexer": "ipython3",
   "version": "3.8.2"
  }
 },
 "nbformat": 4,
 "nbformat_minor": 4
}
