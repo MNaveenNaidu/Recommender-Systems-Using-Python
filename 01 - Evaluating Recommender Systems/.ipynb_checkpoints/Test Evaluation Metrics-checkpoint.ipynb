{
 "cells": [
  {
   "cell_type": "markdown",
   "metadata": {},
   "source": [
    "# Testing Evaluation Metrics"
   ]
  },
  {
   "cell_type": "markdown",
   "metadata": {},
   "source": [
    "## Importing Dependencies"
   ]
  },
  {
   "cell_type": "code",
   "execution_count": 1,
   "metadata": {},
   "outputs": [],
   "source": [
    "from MovieLens import MovieLens\n",
    "from surprise import SVD\n",
    "from surprise import KNNBaseline\n",
    "from surprise.model_selection import train_test_split\n",
    "from surprise.model_selection import LeaveOneOut\n",
    "from RecommenderMetrics import RecommenderMetrics"
   ]
  },
  {
   "cell_type": "markdown",
   "metadata": {},
   "source": [
    "## Importing Data"
   ]
  },
  {
   "cell_type": "code",
   "execution_count": 2,
   "metadata": {},
   "outputs": [
    {
     "name": "stdout",
     "output_type": "stream",
     "text": [
      "Loading movie ratings...\n"
     ]
    }
   ],
   "source": [
    "# Loading Data\n",
    "ml = MovieLens()\n",
    "print(\"Loading movie ratings...\")\n",
    "data = ml.loadMovieLensLatestSmall()"
   ]
  },
  {
   "cell_type": "code",
   "execution_count": 3,
   "metadata": {},
   "outputs": [],
   "source": [
    "# Computing movie popularity ranks so we can measure novelty later...\n",
    "rankings = ml.getPopularityRanks()"
   ]
  },
  {
   "cell_type": "code",
   "execution_count": 4,
   "metadata": {},
   "outputs": [
    {
     "name": "stdout",
     "output_type": "stream",
     "text": [
      "Estimating biases using als...\n",
      "Computing the pearson_baseline similarity matrix...\n",
      "Done computing similarity matrix.\n"
     ]
    },
    {
     "data": {
      "text/plain": [
       "<surprise.prediction_algorithms.knns.KNNBaseline at 0x7f76793a9fa0>"
      ]
     },
     "execution_count": 4,
     "metadata": {},
     "output_type": "execute_result"
    }
   ],
   "source": [
    "# Computing item similarities so we can measure diversity later...\n",
    "fullTrainSet = data.build_full_trainset()\n",
    "sim_options = {'name': 'pearson_baseline', 'user_based': False}\n",
    "simsAlgo = KNNBaseline(sim_options=sim_options)\n",
    "simsAlgo.fit(fullTrainSet)"
   ]
  },
  {
   "cell_type": "code",
   "execution_count": 5,
   "metadata": {},
   "outputs": [],
   "source": [
    "# Spiliting Dataset\n",
    "trainSet, testSet = train_test_split(data, test_size=.25, random_state=1)"
   ]
  },
  {
   "cell_type": "markdown",
   "metadata": {},
   "source": [
    "## Building Model"
   ]
  },
  {
   "cell_type": "code",
   "execution_count": 6,
   "metadata": {},
   "outputs": [
    {
     "data": {
      "text/plain": [
       "<surprise.prediction_algorithms.matrix_factorization.SVD at 0x7f76741c3790>"
      ]
     },
     "execution_count": 6,
     "metadata": {},
     "output_type": "execute_result"
    }
   ],
   "source": [
    "algo = SVD(random_state=10)\n",
    "algo.fit(trainSet)"
   ]
  },
  {
   "cell_type": "code",
   "execution_count": 7,
   "metadata": {},
   "outputs": [
    {
     "name": "stdout",
     "output_type": "stream",
     "text": [
      "\n",
      "Computing recommendations...\n"
     ]
    }
   ],
   "source": [
    "# Coputing Recommendations on Test Set\n",
    "print(\"\\nComputing recommendations...\")\n",
    "predictions = algo.test(testSet)"
   ]
  },
  {
   "cell_type": "markdown",
   "metadata": {},
   "source": [
    "## Evaluating Models"
   ]
  },
  {
   "cell_type": "code",
   "execution_count": 8,
   "metadata": {},
   "outputs": [
    {
     "name": "stdout",
     "output_type": "stream",
     "text": [
      "\n",
      "Evaluating accuracy of model...\n",
      "RMSE:  0.9033701087151801\n",
      "MAE:  0.6977882196132263\n"
     ]
    }
   ],
   "source": [
    "print(\"\\nEvaluating accuracy of model...\")\n",
    "print(\"RMSE: \", RecommenderMetrics.RMSE(predictions))\n",
    "print(\"MAE: \", RecommenderMetrics.MAE(predictions))"
   ]
  },
  {
   "cell_type": "code",
   "execution_count": 9,
   "metadata": {},
   "outputs": [
    {
     "name": "stdout",
     "output_type": "stream",
     "text": [
      "\n",
      "Evaluating top-10 recommendations...\n"
     ]
    }
   ],
   "source": [
    "print(\"\\nEvaluating top-10 recommendations...\")\n",
    "# Set aside one rating per user for testing\n",
    "LOOCV = LeaveOneOut(n_splits=1, random_state=1)"
   ]
  },
  {
   "cell_type": "code",
   "execution_count": 10,
   "metadata": {},
   "outputs": [
    {
     "name": "stdout",
     "output_type": "stream",
     "text": [
      "Computing recommendations with leave-one-out...\n",
      "Predict ratings for left-out set...\n",
      "Predict all missing ratings...\n",
      "Compute top 10 recs per user...\n",
      "\n",
      "Hit Rate:  0.029806259314456036\n",
      "\n",
      "rHR (Hit Rate by Rating value): \n",
      "3.5 0.017241379310344827\n",
      "4.0 0.0425531914893617\n",
      "4.5 0.020833333333333332\n",
      "5.0 0.06802721088435375\n",
      "\n",
      "cHR (Cumulative Hit Rate, rating >= 4):  0.04960835509138381\n",
      "\n",
      "ARHR (Average Reciprocal Hit Rank):  0.0111560570576964\n"
     ]
    }
   ],
   "source": [
    "for trainSet, testSet in LOOCV.split(data):\n",
    "    print(\"Computing recommendations with leave-one-out...\")\n",
    "\n",
    "    # Train model without left-out ratings\n",
    "    algo.fit(trainSet)\n",
    "\n",
    "    # Predicts ratings for left-out ratings only\n",
    "    print(\"Predict ratings for left-out set...\")\n",
    "    leftOutPredictions = algo.test(testSet)\n",
    "\n",
    "    # Build predictions for all ratings not in the training set\n",
    "    print(\"Predict all missing ratings...\")\n",
    "    bigTestSet = trainSet.build_anti_testset()\n",
    "    allPredictions = algo.test(bigTestSet)\n",
    "\n",
    "    # Compute top 10 recs for each user\n",
    "    print(\"Compute top 10 recs per user...\")\n",
    "    topNPredicted = RecommenderMetrics.GetTopN(allPredictions, n=10)\n",
    "\n",
    "    # See how often we recommended a movie the user actually rated\n",
    "    print(\"\\nHit Rate: \", RecommenderMetrics.HitRate(topNPredicted, leftOutPredictions))\n",
    "\n",
    "    # Break down hit rate by rating value\n",
    "    print(\"\\nrHR (Hit Rate by Rating value): \")\n",
    "    RecommenderMetrics.RatingHitRate(topNPredicted, leftOutPredictions)\n",
    "\n",
    "    # See how often we recommended a movie the user actually liked\n",
    "    print(\"\\ncHR (Cumulative Hit Rate, rating >= 4): \", RecommenderMetrics.CumulativeHitRate(topNPredicted, leftOutPredictions, 4.0))\n",
    "\n",
    "    # Compute ARHR\n",
    "    print(\"\\nARHR (Average Reciprocal Hit Rank): \", RecommenderMetrics.AverageReciprocalHitRank(topNPredicted, leftOutPredictions))"
   ]
  },
  {
   "cell_type": "code",
   "execution_count": 11,
   "metadata": {},
   "outputs": [
    {
     "name": "stdout",
     "output_type": "stream",
     "text": [
      "\n",
      "Computing complete recommendations, no hold outs...\n"
     ]
    }
   ],
   "source": [
    "print(\"\\nComputing complete recommendations, no hold outs...\")\n",
    "algo.fit(fullTrainSet)\n",
    "bigTestSet = fullTrainSet.build_anti_testset()\n",
    "allPredictions = algo.test(bigTestSet)\n",
    "topNPredicted = RecommenderMetrics.GetTopN(allPredictions, n=10)"
   ]
  },
  {
   "cell_type": "code",
   "execution_count": 13,
   "metadata": {},
   "outputs": [
    {
     "name": "stdout",
     "output_type": "stream",
     "text": [
      "\n",
      "User coverage:  0.9552906110283159\n"
     ]
    }
   ],
   "source": [
    "# Print user coverage with a minimum predicted rating of 4.0:\n",
    "print(\"\\nUser coverage: \", RecommenderMetrics.UserCoverage(topNPredicted, fullTrainSet.n_users, ratingThreshold=4.0))"
   ]
  },
  {
   "cell_type": "code",
   "execution_count": 14,
   "metadata": {},
   "outputs": [
    {
     "name": "stdout",
     "output_type": "stream",
     "text": [
      "Computing the pearson_baseline similarity matrix...\n",
      "Done computing similarity matrix.\n",
      "\n",
      "Diversity:  0.9665208258150911\n"
     ]
    }
   ],
   "source": [
    "# Measure diversity of recommendations:\n",
    "print(\"\\nDiversity: \", RecommenderMetrics.Diversity(topNPredicted, simsAlgo))"
   ]
  },
  {
   "cell_type": "code",
   "execution_count": 15,
   "metadata": {},
   "outputs": [
    {
     "name": "stdout",
     "output_type": "stream",
     "text": [
      "\n",
      "Novelty (average popularity rank):  491.5767777960256\n"
     ]
    }
   ],
   "source": [
    "# Measure novelty (average popularity rank of recommendations):\n",
    "print(\"\\nNovelty (average popularity rank): \", RecommenderMetrics.Novelty(topNPredicted, rankings))"
   ]
  }
 ],
 "metadata": {
  "kernelspec": {
   "display_name": "Python 3",
   "language": "python",
   "name": "python3"
  },
  "language_info": {
   "codemirror_mode": {
    "name": "ipython",
    "version": 3
   },
   "file_extension": ".py",
   "mimetype": "text/x-python",
   "name": "python",
   "nbconvert_exporter": "python",
   "pygments_lexer": "ipython3",
   "version": "3.8.2"
  }
 },
 "nbformat": 4,
 "nbformat_minor": 4
}
